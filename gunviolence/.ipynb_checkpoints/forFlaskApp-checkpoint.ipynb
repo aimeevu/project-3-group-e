{
 "cells": [
  {
   "cell_type": "code",
   "execution_count": null,
   "id": "91474894",
   "metadata": {},
   "outputs": [],
   "source": [
    "from flask import Flask, render_template, jsonify\n",
    "from flask_pymongo import PyMongo\n",
    "from sqlalchemy.ext.automap import automap_base\n",
    "from sqlalchemy.orm import Session\n",
    "from sqlalchemy import create_engine, func\n",
    "import json\n",
    "import pandas as pd"
   ]
  },
  {
   "cell_type": "code",
   "execution_count": null,
   "id": "fa51fc61",
   "metadata": {},
   "outputs": [],
   "source": [
    "app = Flask(__name__)\n",
    "database = \"\"\n",
    "\n",
    "#app.config[\"MONGO_URI\"] = f\"mongodb://localhost:27017/{database}\"\n",
    "#mongo = PyMongo(app)\n",
    "\n",
    "engine = create_engine(f\"mongodb://localhost:27017/{database}\")\n",
    "Base = automap_base()\n",
    "Base.prepare(engine,reflect=True)\n",
    "statePartyAffiliations = Base.classes.statePartyAffiliations"
   ]
  }
 ],
 "metadata": {
  "kernelspec": {
   "display_name": "Python 3 (ipykernel)",
   "language": "python",
   "name": "python3"
  },
  "language_info": {
   "codemirror_mode": {
    "name": "ipython",
    "version": 3
   },
   "file_extension": ".py",
   "mimetype": "text/x-python",
   "name": "python",
   "nbconvert_exporter": "python",
   "pygments_lexer": "ipython3",
   "version": "3.9.12"
  }
 },
 "nbformat": 4,
 "nbformat_minor": 5
}
