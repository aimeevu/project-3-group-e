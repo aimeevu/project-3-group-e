{
 "cells": [
  {
   "cell_type": "code",
   "execution_count": 6,
   "id": "82500fb9",
   "metadata": {},
   "outputs": [],
   "source": [
    "import json\n",
    "import csv"
   ]
  },
  {
   "cell_type": "code",
   "execution_count": 7,
   "id": "6cba5755",
   "metadata": {},
   "outputs": [],
   "source": [
    "with open(\"fatalPoliceShootings.csv\", \"r\") as f:\n",
    "    reader= csv.reader(f)\n",
    "    next(reader)\n",
    "    data=[]\n",
    "    for row in reader:\n",
    "        data.append({\"id\": row[0], \"name\": row[1], \"date\": row[2], \"City Or County\": row[3], \"Address\": row[4], \"# Killed\": row[5], \"# Injured\": row[6]})"
   ]
  },
  {
   "cell_type": "code",
   "execution_count": 8,
   "id": "c723d611",
   "metadata": {},
   "outputs": [],
   "source": [
    "with open(\"fatalPoliceShootings.json\", \"w\") as f:\n",
    "    json.dump(data, f, indent=4)"
   ]
  },
  {
   "cell_type": "code",
   "execution_count": null,
   "id": "9619ffab",
   "metadata": {},
   "outputs": [],
   "source": []
  }
 ],
 "metadata": {
  "kernelspec": {
   "display_name": "Python 3 (ipykernel)",
   "language": "python",
   "name": "python3"
  },
  "language_info": {
   "codemirror_mode": {
    "name": "ipython",
    "version": 3
   },
   "file_extension": ".py",
   "mimetype": "text/x-python",
   "name": "python",
   "nbconvert_exporter": "python",
   "pygments_lexer": "ipython3",
   "version": "3.9.12"
  }
 },
 "nbformat": 4,
 "nbformat_minor": 5
}
